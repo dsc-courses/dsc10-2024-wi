{
 "cells": [
  {
   "cell_type": "markdown",
   "metadata": {},
   "source": [
    "# Homework 2: DataFrames, Data Visualization, and Functions\n",
    "\n",
    "## Due Thursday, February 1st at 11:59PM\n",
    "\n",
    "Welcome to Homework 2! This week, we will cover DataFrame manipulations, making visualizations, and defining functions. You can find additional help on these topics in  [BPD 6, 9-12](https://notes.dsc10.com/01-getting_started/functions-defining.html) in the `babypandas` notes and [CIT 7-7.3](https://inferentialthinking.com/chapters/07/Visualization.html) in the textbook."
   ]
  },
  {
   "cell_type": "markdown",
   "metadata": {},
   "source": [
    "### Instructions\n",
    "\n",
    "Remember to start early and submit often. You are given six slip days throughout the quarter to extend deadlines. See the syllabus for more details. With the exception of using slip days, late work will not be accepted unless you have made special arrangements with your instructor.\n",
    "\n",
    "**Important**: For homeworks, the `otter` tests don't usually tell you that your answer is correct. More often, they help catch careless mistakes. It's up to you to ensure that your answer is correct. If you're not sure, ask someone (not for the answer, but for some guidance about your approach). These are great questions for office hours (see the schedule on the [Calendar](https://dsc10.com/calendar)) or Ed. Directly sharing answers is not okay, but discussing problems with the course staff or with other students is encouraged. \n",
    "\n",
    "**Please do not use for-loops for any questions in this homework.** If you don't know what a for-loop is, don't worry – we haven't covered them yet. But if you do know what they are and are wondering why it's not OK to use them, it is because loops in Python are slow, and looping over arrays and DataFrames should usually be avoided.\n",
    "\n",
    "<font color=red>**🚨 If you create a data visualization that is too cluttered to read or takes more than a few seconds to generate, this is a sign you are doing something wrong. Do not submit code like this, or the Gradescope autograder may fail to grade your entire assignment. It's better to leave a question blank than to submit code that will cause the autograder to fail on your full assignment.**</font>"
   ]
  },
  {
   "cell_type": "code",
   "execution_count": null,
   "metadata": {},
   "outputs": [],
   "source": [
    "# Please don't change this cell, but do make sure to run it\n",
    "import babypandas as bpd\n",
    "import numpy as np\n",
    "\n",
    "import matplotlib.pyplot as plt\n",
    "plt.style.use('ggplot')\n",
    "plt.rcParams['figure.figsize'] = (10, 5)\n",
    "\n",
    "import otter\n",
    "grader = otter.Notebook()"
   ]
  },
  {
   "cell_type": "markdown",
   "metadata": {},
   "source": [
    "## 1. See ya at IKEA! 🪑 🧆 "
   ]
  },
  {
   "cell_type": "markdown",
   "metadata": {},
   "source": [
    "IKEA is a popular furniture store known for its affordable furniture, maze-like store layout, and their food court's Swedish meatballs. The first IKEA store opened in Sweden in 1958, and they've since expanded to have over 470 IKEA stores globally, including one in San Diego.\n",
    "\n",
    "The file named `ikea.csv` in the `data/` directory contains data on various IKEA products. This data includes information on each product's price, description, and size, among other attributes. Products with unknown `'depth'`, `'height'`, and `'width'` values have these attributes recorded as `0.0`."
   ]
  },
  {
   "cell_type": "code",
   "execution_count": null,
   "metadata": {
    "scrolled": true
   },
   "outputs": [],
   "source": [
    "ikea_full = bpd.read_csv('data/ikea.csv')\n",
    "ikea_full"
   ]
  },
  {
   "cell_type": "markdown",
   "metadata": {},
   "source": [
    "**Question 1.1.** We will only be using the `'name'`, `'item_id'`, `'category'`, `'price'`, `'short_description'`, and `'height'` columns from the `ikea_full` DataFrame. Create a new DataFrame called `ikea` that contains all the information from the `ikea_full` DataFrame, but with only those 6 specified columns.\n",
    "\n",
    "***Hint:*** To select multiple columns from a DataFrame, you can pass a **list** of all the column names into `.get()`."
   ]
  },
  {
   "cell_type": "code",
   "execution_count": null,
   "metadata": {},
   "outputs": [],
   "source": [
    "ikea = ...\n",
    "ikea"
   ]
  },
  {
   "cell_type": "code",
   "execution_count": null,
   "metadata": {
    "deletable": false,
    "editable": false
   },
   "outputs": [],
   "source": [
    "grader.check(\"q1_1\")"
   ]
  },
  {
   "cell_type": "markdown",
   "metadata": {},
   "source": [
    "### Aside: String methods and Series\n",
    "\n",
    "**Before proceeding to Question 1.2, make sure to read this aside.**\n",
    "\n",
    "As we saw in [Lecture 3](https://dsc10.com/resources/lectures/lec03/lec03.html), strings have several methods available to them. "
   ]
  },
  {
   "cell_type": "code",
   "execution_count": null,
   "metadata": {
    "scrolled": true
   },
   "outputs": [],
   "source": [
    "'ELVARLI'.lower()"
   ]
  },
  {
   "cell_type": "code",
   "execution_count": null,
   "metadata": {
    "scrolled": true
   },
   "outputs": [],
   "source": [
    "'ELVARLI'.replace('I', '👀')"
   ]
  },
  {
   "cell_type": "markdown",
   "metadata": {},
   "source": [
    "`babypandas` makes it easy for us to use string methods on not just a single string, but a *Series* of strings. To do this, we follow the pattern\n",
    "\n",
    "```py\n",
    "ser.str.method(args)\n",
    "```\n",
    "\n",
    "where `ser` is a Series, `method` is the name of a method, and `args` are the arguments to that method (if any). The key difference between string-specific Series methods and other Series methods (like `ser.mean()`) is that we need to write `.str` first."
   ]
  },
  {
   "cell_type": "markdown",
   "metadata": {},
   "source": [
    "For example, the following expression returns a Series containing the values in the `name` column but converted to lowercase."
   ]
  },
  {
   "cell_type": "code",
   "execution_count": null,
   "metadata": {
    "scrolled": true
   },
   "outputs": [],
   "source": [
    "ikea.get('name').str.lower()"
   ]
  },
  {
   "cell_type": "markdown",
   "metadata": {},
   "source": [
    "The following expression replaces all `'O'`s with `'🍊'` in the index. (Yes, you can use `.str` with the index as well!)"
   ]
  },
  {
   "cell_type": "code",
   "execution_count": null,
   "metadata": {
    "scrolled": true
   },
   "outputs": [],
   "source": [
    "example = ikea.set_index('name')\n",
    "example.index.str.replace('O', '🍊')"
   ]
  },
  {
   "cell_type": "markdown",
   "metadata": {},
   "source": [
    "The following expression returns a Boolean Series, with `True` for products whose `short_description` contains the string `'desk'` and `False` for all other products. (`contains` is not a regular string method in Python, while the other examples – `lower` and `replace` – are.)"
   ]
  },
  {
   "cell_type": "code",
   "execution_count": null,
   "metadata": {
    "scrolled": true
   },
   "outputs": [],
   "source": [
    "ikea.get('short_description').str.contains('desk')"
   ]
  },
  {
   "cell_type": "markdown",
   "metadata": {},
   "source": [
    "Remember that we use Boolean Series to make queries! If we query with this Boolean Series, we'll obtain a DataFrame of only the furniture items that have `'desk'` as part of the short_description."
   ]
  },
  {
   "cell_type": "code",
   "execution_count": null,
   "metadata": {},
   "outputs": [],
   "source": [
    "ikea[ikea.get('short_description').str.contains('desk')]"
   ]
  },
  {
   "cell_type": "markdown",
   "metadata": {},
   "source": [
    "Now you're ready to proceed to Question 1.2. If you'd like another explanation of Series string methods, and `.str.contains` in particular, run the cell below to watch a video from a past iteration of DSC 10."
   ]
  },
  {
   "cell_type": "code",
   "execution_count": null,
   "metadata": {},
   "outputs": [],
   "source": [
    "from IPython.display import YouTubeVideo\n",
    "id = 'TCcEhVA6Euw?si'\n",
    "YouTubeVideo(id = id, height = \"400\", width = \"700\")"
   ]
  },
  {
   "cell_type": "markdown",
   "metadata": {},
   "source": [
    "**Question 1.2.** Arya is interested in purchasing a shelf from IKEA. The `'short_description'` column in the `ikea` DataFrame contains an overview of the product, such as if the product is table or a shelving unit. To make it easier for Arya to see all of the possible product options that he can buy, assign `shelves` to a DataFrame that includes all the products that have the word `'shelving'` in their description, with any capitalization, sorted in ascending order of `'price'`.\n",
    "\n",
    "***Hint:*** The product descriptions are strings, so they may have inconsistencies in how they're capitalized. If we want to include `'shelving'`, `'Shelving'`, `'ShElViNg'`, and any other variations in capitalization, what operation should we call on the description column **first**? (You may end up using `.str` twice!)"
   ]
  },
  {
   "cell_type": "code",
   "execution_count": null,
   "metadata": {
    "scrolled": false
   },
   "outputs": [],
   "source": [
    "# For a multi-step problem, it's helpful to define intermediate variables. \n",
    "# Feel free to do that here, or for any problem!\n",
    "\n",
    "shelves = ...\n",
    "shelves"
   ]
  },
  {
   "cell_type": "code",
   "execution_count": null,
   "metadata": {
    "deletable": false,
    "editable": false
   },
   "outputs": [],
   "source": [
    "grader.check(\"q1_2\")"
   ]
  },
  {
   "cell_type": "markdown",
   "metadata": {},
   "source": [
    "To see what types of shelving units there are, run the following cell, which uses the Series method `unique()`."
   ]
  },
  {
   "cell_type": "code",
   "execution_count": null,
   "metadata": {},
   "outputs": [],
   "source": [
    "shelves.get('category').unique()"
   ]
  },
  {
   "cell_type": "markdown",
   "metadata": {},
   "source": [
    "**Question 1.3.** After looking through the possible shelving options, Arya decides that he might as well purchase a shelving product that can also function as a table or desk! However, he heard from Oren that the `'EKET'` table and desk isn't very good, so he wants to avoid that one. Assign `no_eket` to a DataFrame containing all the products in `shelves` that are categorized as `'Tables & desks'` except for the one named `'EKET'`. `no_eket` should have the same columns as `shelves`."
   ]
  },
  {
   "cell_type": "code",
   "execution_count": null,
   "metadata": {
    "scrolled": false
   },
   "outputs": [],
   "source": [
    "no_eket = ...\n",
    "no_eket"
   ]
  },
  {
   "cell_type": "code",
   "execution_count": null,
   "metadata": {
    "deletable": false,
    "editable": false
   },
   "outputs": [],
   "source": [
    "grader.check(\"q1_3\")"
   ]
  },
  {
   "cell_type": "markdown",
   "metadata": {},
   "source": [
    "**Question 1.4.** Arya doesn't want to buy the most expensive product but he also has enough money in his budget to afford buying something other than the cheapest product, so he won't buy the cheapest product either. Using the `no_eket` DataFrame, assign `final_choice` to the `'item_id'` of the product that he will buy under these conditions.  "
   ]
  },
  {
   "cell_type": "code",
   "execution_count": null,
   "metadata": {},
   "outputs": [],
   "source": [
    "final_choice = ...\n",
    "final_choice"
   ]
  },
  {
   "cell_type": "code",
   "execution_count": null,
   "metadata": {
    "deletable": false,
    "editable": false
   },
   "outputs": [],
   "source": [
    "grader.check(\"q1_4\")"
   ]
  },
  {
   "cell_type": "markdown",
   "metadata": {},
   "source": [
    "**Question 1.5.** Next, Arya needs a place to sit. Plot a histogram that displays the distribution of the `height` of all products categorized as `'Chairs'` or `'Sofas & armchairs'`. Only include products for which we have height information available.\n",
    "\n",
    "When plotting your histogram, remember to set `density=True` and `ec='w'`. You don't have to set the `bins` argument."
   ]
  },
  {
   "cell_type": "markdown",
   "metadata": {
    "deletable": false,
    "editable": false
   },
   "source": [
    "<!-- BEGIN QUESTION -->\n",
    "\n",
    "<!--\n",
    "BEGIN QUESTION\n",
    "name: q1_5\n",
    "manual: true\n",
    "-->"
   ]
  },
  {
   "cell_type": "code",
   "execution_count": null,
   "metadata": {
    "scrolled": false
   },
   "outputs": [],
   "source": [
    "# Create your histogram here.\n",
    "..."
   ]
  },
  {
   "cell_type": "markdown",
   "metadata": {},
   "source": [
    "<!-- END QUESTION -->\n",
    "\n",
    "\n",
    "\n",
    "**Question 1.6.** Among all products included in the histogram above, find the proportion of such products that are between 75cm and 100cm tall in `'height'`, inclusive. Assign this proportion to `prop`."
   ]
  },
  {
   "cell_type": "code",
   "execution_count": null,
   "metadata": {},
   "outputs": [],
   "source": [
    "prop = ...\n",
    "prop"
   ]
  },
  {
   "cell_type": "code",
   "execution_count": null,
   "metadata": {
    "deletable": false,
    "editable": false
   },
   "outputs": [],
   "source": [
    "grader.check(\"q1_6\")"
   ]
  },
  {
   "cell_type": "markdown",
   "metadata": {},
   "source": [
    "**Question 1.7.** After hours of wandering through IKEA, Arya has seen a lot of different kinds of furniture! He would like to know the median price of the products in each `'category'` to get a sense of how much a typical furniture item from each `'category'` should cost. Create a DataFrame called `typical_prices` where the index contains the `'category'` values in `ikea` and the only column is `'price'`, which contains the **median** price of all products in a given `'category'`."
   ]
  },
  {
   "cell_type": "code",
   "execution_count": null,
   "metadata": {
    "scrolled": true
   },
   "outputs": [],
   "source": [
    "typical_prices = ...\n",
    "typical_prices"
   ]
  },
  {
   "cell_type": "code",
   "execution_count": null,
   "metadata": {
    "deletable": false,
    "editable": false
   },
   "outputs": [],
   "source": [
    "grader.check(\"q1_7\")"
   ]
  },
  {
   "cell_type": "markdown",
   "metadata": {},
   "source": [
    "**Question 1.8.** Set `ranked_categories` to an array of all the different `'category'` values in `ikea`, in ascending order of median price. \n",
    "\n",
    "***Hint:*** Use `np.array` to make sure `ranked_categories` is an array.\n",
    "\n"
   ]
  },
  {
   "cell_type": "code",
   "execution_count": null,
   "metadata": {},
   "outputs": [],
   "source": [
    "ranked_categories = ...\n",
    "ranked_categories"
   ]
  },
  {
   "cell_type": "code",
   "execution_count": null,
   "metadata": {
    "deletable": false,
    "editable": false
   },
   "outputs": [],
   "source": [
    "grader.check(\"q1_8\")"
   ]
  },
  {
   "cell_type": "markdown",
   "metadata": {},
   "source": [
    "## 2. Iconic Video Games 🎮🕹️\n",
    "\n",
    "🌳 What do Minecraft trees and math tests have in common? 🌳\n",
    "\n",
    "<img src='./images/minecraft_tree.png' width=250/>\n",
    "\n",
    "*They have square roots!*\n",
    "\n",
    "In this section, we'll work with a datset of iconic video games from 1980 to 2023, such as *Minecraft*, *The Legend of Zelda*, *Among Us*, *Fire Emblem*, and *Undertale*. The dataset was sourced from [Kaggle](https://www.kaggle.com/datasets/arnabchaki/popular-video-games-1980-2023/data) and is loaded in below in the DataFrame `games_raw`."
   ]
  },
  {
   "cell_type": "code",
   "execution_count": null,
   "metadata": {},
   "outputs": [],
   "source": [
    "games_raw = bpd.read_csv('data/games.csv')\n",
    "games_raw"
   ]
  },
  {
   "cell_type": "markdown",
   "metadata": {},
   "source": [
    "**Question 2.1.** Let's start by cleaning up the `'Release Date'` column in the `games_raw` DataFrame. Most `'Release Date'`s are actually dates (e.g. `'Feb 04, 2014'`), but a few values are `'releases on TBD'`. Filter out the rows with `'releases on TBD'`, and assign `games` to the resulting DataFrame."
   ]
  },
  {
   "cell_type": "code",
   "execution_count": null,
   "metadata": {},
   "outputs": [],
   "source": [
    "games = ...\n",
    "games"
   ]
  },
  {
   "cell_type": "code",
   "execution_count": null,
   "metadata": {
    "deletable": false,
    "editable": false
   },
   "outputs": [],
   "source": [
    "grader.check(\"q2_1\")"
   ]
  },
  {
   "cell_type": "markdown",
   "metadata": {},
   "source": [
    "**Question 2.2.** Next, define a function called `extract_year_as_int`, which takes as input a string formatted like `'Dec 10, 2019'`, and outputs the year as an `int`. For example, the function evaluated on the string `'Dec 10, 2019'` should return the int `2019`.\n",
    "\n",
    "***Hint:*** The [string method](https://docs.python.org/3/library/stdtypes.html#string-methods) `.split()` will be helpful here."
   ]
  },
  {
   "cell_type": "code",
   "execution_count": null,
   "metadata": {},
   "outputs": [],
   "source": [
    "# Define your function here.\n",
    "...\n",
    "\n",
    "# Test case for your reference. Feel free to test out more!\n",
    "example = extract_year_as_int('Feb 01, 2024')\n",
    "example "
   ]
  },
  {
   "cell_type": "code",
   "execution_count": null,
   "metadata": {
    "deletable": false,
    "editable": false
   },
   "outputs": [],
   "source": [
    "grader.check(\"q2_2\")"
   ]
  },
  {
   "cell_type": "markdown",
   "metadata": {},
   "source": [
    "**Question 2.3.** Use `extract_year_as_int` to add a column called `'Year'` to the `games` DataFrame. The `'Year'` column should contain the release year of each game as an integer. Then, drop the `'Release Date'` column. Make sure to \"save\" your changes in the `games` DataFrame! "
   ]
  },
  {
   "cell_type": "code",
   "execution_count": null,
   "metadata": {},
   "outputs": [],
   "source": [
    "games = ...\n",
    "games"
   ]
  },
  {
   "cell_type": "code",
   "execution_count": null,
   "metadata": {
    "deletable": false,
    "editable": false
   },
   "outputs": [],
   "source": [
    "grader.check(\"q2_3\")"
   ]
  },
  {
   "cell_type": "markdown",
   "metadata": {},
   "source": [
    "### Aside: conditional statements\n",
    "\n",
    "**Before proceeding to Question 2.4, make sure to read this aside.**\n",
    "\n",
    "In Lecture 10, we'll learn about conditional statements. Conditional statements, or `if`-statements, allow your code to behave differently on different inputs, based on whether a condition is met. Conditional statements look like this:\n",
    "\n",
    "```python\n",
    "if <condition>:\n",
    "    <expression>\n",
    "else:\n",
    "    <expression>\n",
    "```\n",
    "For example, the function below prints a statement that describes the relationship of the input to the number 5. "
   ]
  },
  {
   "cell_type": "code",
   "execution_count": null,
   "metadata": {},
   "outputs": [],
   "source": [
    "def greater_than_5(var):\n",
    "    if var > 5:\n",
    "        print(var, 'is greater than 5.')\n",
    "    else:\n",
    "        print(var, 'is less than or equal to 5.')\n",
    "\n",
    "greater_than_5(16)\n",
    "greater_than_5(2)"
   ]
  },
  {
   "cell_type": "markdown",
   "metadata": {},
   "source": [
    "**Question 2.4.** The `'Plays'` and `'Wishlist'` columns contain strings instead of numbers. Any value greater than 1000 is written in the thousands with a letter `'K'`. For example, `'3.6K'` is used to represent the number `3600`. \n",
    "\n",
    "Complete the implementation of the function `get_number`, which takes as input a string, `number_str`, which may or may not be written with a `'K'` for thousands, and outputs the corresponding number as an `int`. For example, on the input `'1.8K'`, the function should return the int `1800`.\n",
    "\n",
    "***Hint:*** The [string method](https://docs.python.org/3/library/stdtypes.html#string-methods) `.strip()` will be helpful here."
   ]
  },
  {
   "cell_type": "code",
   "execution_count": null,
   "metadata": {},
   "outputs": [],
   "source": [
    "def get_number(number_str):\n",
    "    # if number_str contains 'K'\n",
    "    if 'K' in number_str:\n",
    "        ...\n",
    "    # if number_str does not contain 'K'\n",
    "    else:\n",
    "        ...\n",
    "\n",
    "# Test cases for your reference. Feel free to test out more!\n",
    "print(get_number('3.6K')) # Should print 3600\n",
    "print(get_number('602')) # Should print 602"
   ]
  },
  {
   "cell_type": "code",
   "execution_count": null,
   "metadata": {
    "deletable": false,
    "editable": false
   },
   "outputs": [],
   "source": [
    "grader.check(\"q2_4\")"
   ]
  },
  {
   "cell_type": "markdown",
   "metadata": {},
   "source": [
    "**Question 2.5.** Use your `get_number` function to update the `'Plays'` and `'Wishlist'` columns in `games` so that they contain only `int`s. "
   ]
  },
  {
   "cell_type": "code",
   "execution_count": null,
   "metadata": {},
   "outputs": [],
   "source": [
    "games = ...\n",
    "games"
   ]
  },
  {
   "cell_type": "code",
   "execution_count": null,
   "metadata": {
    "deletable": false,
    "editable": false
   },
   "outputs": [],
   "source": [
    "grader.check(\"q2_5\")"
   ]
  },
  {
   "cell_type": "markdown",
   "metadata": {},
   "source": [
    "Let's turn our attention to the `'Genres'` column of `games`. Each value in the `'Genres'` column appears to be formatted as a list of genres. For example:"
   ]
  },
  {
   "cell_type": "code",
   "execution_count": null,
   "metadata": {},
   "outputs": [],
   "source": [
    "games.get('Genres').iloc[0]"
   ]
  },
  {
   "cell_type": "markdown",
   "metadata": {},
   "source": [
    "But if we look closely, we see that each value in the `'Genres'` column is in fact a string!"
   ]
  },
  {
   "cell_type": "code",
   "execution_count": null,
   "metadata": {},
   "outputs": [],
   "source": [
    "type(games.get('Genres').iloc[0])"
   ]
  },
  {
   "cell_type": "markdown",
   "metadata": {},
   "source": [
    "**Question 2.6.** Set `top_rpg` to a DataFrame of the five most-played games in the `'RPG'` genre. Some `'RPG'` games might also belong to other genres!"
   ]
  },
  {
   "cell_type": "code",
   "execution_count": null,
   "metadata": {
    "scrolled": true
   },
   "outputs": [],
   "source": [
    "top_rpg = ...\n",
    "top_rpg"
   ]
  },
  {
   "cell_type": "code",
   "execution_count": null,
   "metadata": {
    "deletable": false,
    "editable": false
   },
   "outputs": [],
   "source": [
    "grader.check(\"q2_6\")"
   ]
  },
  {
   "cell_type": "markdown",
   "metadata": {},
   "source": [
    "`'RPG'` is just one of many different video game genres. The array `all_genres` includes all the genres that appear in `games`."
   ]
  },
  {
   "cell_type": "code",
   "execution_count": null,
   "metadata": {},
   "outputs": [],
   "source": [
    "all_genres = np.array(['Adventure', 'Arcade', 'Brawler', 'Card & Board Game', 'Fighting', 'Indie', 'MOBA', \n",
    "              'Music', 'Pinball', 'Platform', 'Point-and-Click', 'Puzzle', 'Quiz/Trivia', 'RPG', \n",
    "              'Racing', 'Real Time Strategy', 'Shooter', 'Simulator', 'Sport', 'Strategy', 'Tactical', \n",
    "              'Turn Based Strategy', 'Visual Novel'])"
   ]
  },
  {
   "cell_type": "markdown",
   "metadata": {},
   "source": [
    "What are the most-played games for other genres?\n",
    "\n",
    "**Question 2.7.**  Complete the implementation of the function `most_played`, which takes as input an integer `n` and a `genre`, which can be any genre from the array `all_genres`. The function should return a DataFrame containing the `n` rows of `games` from the given `genre` that have the highest number of `Plays`. If there are fewer than `n` games in the given `genre`, then the function should return a DataFrame with all such games, which will have fewer than `n` rows.\n",
    "\n",
    "***Hint:*** Set `n_capped` to be the number of rows your output DataFrame should have. This number will be equal to `n` when there are at least `n` games of the given `genre`, but it will be less than `n` otherwise. You can define `n_capped` in **one line** with the help of a built-in Python function. You do not need to use an `if`-statement!"
   ]
  },
  {
   "cell_type": "code",
   "execution_count": null,
   "metadata": {},
   "outputs": [],
   "source": [
    "def most_played(genre, n):   \n",
    "    n_capped = ...\n",
    "    top_n = ...\n",
    "    return top_n\n",
    "\n",
    "# Test case for your reference. Feel free to test out more!\n",
    "most_played('Pinball', 5) # Should return a DataFrame with one row for \"Pokémon Pinball: Ruby & Sapphire.\""
   ]
  },
  {
   "cell_type": "code",
   "execution_count": null,
   "metadata": {
    "deletable": false,
    "editable": false
   },
   "outputs": [],
   "source": [
    "grader.check(\"q2_7\")"
   ]
  },
  {
   "cell_type": "markdown",
   "metadata": {},
   "source": [
    "**Question 2.8.** Let's look at the distribution of `'Rating'` for Nintendo games with fewer than 9,000 `Plays`. Plot a density histogram that shows the distribution of `'Rating'` for the Nintendo games with fewer than 9,000 `Plays`. Use bins with a width of `0.5` in your histogram."
   ]
  },
  {
   "cell_type": "markdown",
   "metadata": {
    "deletable": false,
    "editable": false
   },
   "source": [
    "<!-- BEGIN QUESTION -->\n",
    "\n",
    "<!--\n",
    "BEGIN QUESTION\n",
    "name: q2_8\n",
    "manual: True\n",
    "-->"
   ]
  },
  {
   "cell_type": "code",
   "execution_count": null,
   "metadata": {
    "scrolled": true
   },
   "outputs": [],
   "source": [
    "# Create your histogram here.\n",
    "..."
   ]
  },
  {
   "cell_type": "markdown",
   "metadata": {},
   "source": [
    "<!-- END QUESTION -->\n",
    "\n",
    "\n",
    "\n",
    "**Question 2.9.** Without writing any code, can you estimate the proportion of such games that have a rating between 2.5 (inclusive) and 3 (exclusive)? Assign your answer to `prop_between` as a `float` between 0 and 1. "
   ]
  },
  {
   "cell_type": "code",
   "execution_count": null,
   "metadata": {},
   "outputs": [],
   "source": [
    "prop_between = ...\n",
    "prop_between"
   ]
  },
  {
   "cell_type": "code",
   "execution_count": null,
   "metadata": {
    "deletable": false,
    "editable": false
   },
   "outputs": [],
   "source": [
    "grader.check(\"q2_9\")"
   ]
  },
  {
   "cell_type": "markdown",
   "metadata": {},
   "source": [
    "**Question 2.10.** Create an appropriate plot that shows the relationship between `'Rating'` and `'Plays'`."
   ]
  },
  {
   "cell_type": "markdown",
   "metadata": {
    "deletable": false,
    "editable": false
   },
   "source": [
    "<!-- BEGIN QUESTION -->\n",
    "\n",
    "<!--\n",
    "BEGIN QUESTION\n",
    "name: q2_10\n",
    "manual: True\n",
    "-->"
   ]
  },
  {
   "cell_type": "code",
   "execution_count": null,
   "metadata": {},
   "outputs": [],
   "source": [
    "# Create your plot here.\n",
    "..."
   ]
  },
  {
   "cell_type": "markdown",
   "metadata": {},
   "source": [
    "<!-- END QUESTION -->\n",
    "\n",
    "\n",
    "\n",
    "**Question 2.11.** Without writing any code, use the plot you created to determine the number of games with more than 10,000 `'Plays'` and a `'Rating'` less than 3. Assign your answer to the variable `popular_bad`."
   ]
  },
  {
   "cell_type": "code",
   "execution_count": null,
   "metadata": {},
   "outputs": [],
   "source": [
    "popular_bad = ..."
   ]
  },
  {
   "cell_type": "code",
   "execution_count": null,
   "metadata": {
    "deletable": false,
    "editable": false
   },
   "outputs": [],
   "source": [
    "grader.check(\"q2_11\")"
   ]
  },
  {
   "cell_type": "markdown",
   "metadata": {},
   "source": [
    "**Question 2.12.** Let's take a look at *The Legend of Zelda* games. Assign `zelda_by_year` to a DataFrame indexed by `'Year'` with one column only, called `'Number'`, that contains the number of games released that year with `'The Legend of Zelda'` in the title. "
   ]
  },
  {
   "cell_type": "code",
   "execution_count": null,
   "metadata": {},
   "outputs": [],
   "source": [
    "zelda_by_year = ...\n",
    "zelda_by_year"
   ]
  },
  {
   "cell_type": "code",
   "execution_count": null,
   "metadata": {
    "deletable": false,
    "editable": false
   },
   "outputs": [],
   "source": [
    "grader.check(\"q2_12\")"
   ]
  },
  {
   "cell_type": "markdown",
   "metadata": {},
   "source": [
    "**Question 2.13.** What is the best way to visualize the data in `zelda_by_year`? Let's find out. Run the following cells to see two few different ways of visualizing the data."
   ]
  },
  {
   "cell_type": "code",
   "execution_count": null,
   "metadata": {},
   "outputs": [],
   "source": [
    "zelda_by_year.plot(kind='line', y='Number'); "
   ]
  },
  {
   "cell_type": "code",
   "execution_count": null,
   "metadata": {
    "scrolled": true
   },
   "outputs": [],
   "source": [
    "zelda_by_year.plot(kind='barh', y='Number'); "
   ]
  },
  {
   "cell_type": "markdown",
   "metadata": {},
   "source": [
    "Which of these statements are true based on your observation of `zelda_by_year`, the line plot, and the bar chart? Assign your answer as a list to `true_statements`. \n",
    "1. The index of `zelda_by_year` contains games from every year between 1986 and 2023, inclusive.\n",
    "1. The index of `zelda_by_year` only contains the years in which *The Legend of Zelda* released a new game.\n",
    "1. *The Legend of Zelda* released a new game in 1989.\n",
    "1. A line plot is better than a bar chart for visualizing the data in `zelda_by_year`.\n",
    "1. A bar chart is better than a line plot for visualizing the data in `zelda_by_year`.\n",
    "1. A histogram would be the best way to visualize the distribution of years in which *The Legend of Zelda* released a new game."
   ]
  },
  {
   "cell_type": "code",
   "execution_count": null,
   "metadata": {},
   "outputs": [],
   "source": [
    "true_statements = ..."
   ]
  },
  {
   "cell_type": "code",
   "execution_count": null,
   "metadata": {
    "deletable": false,
    "editable": false
   },
   "outputs": [],
   "source": [
    "grader.check(\"q2_13\")"
   ]
  },
  {
   "cell_type": "markdown",
   "metadata": {},
   "source": [
    "Great work! To wrap up this section, here are some [fun facts](https://www.thegamer.com/the-legend-of-zelda-fun-facts-trivia/#zelda-isn-rsquo-t-in-every-game) about *The Legend of Zelda*:\n",
    "<img src='./images/zelda.jpg' width=650/>\n",
    "\n",
    "- The *Legend of Zelda* is one of many iconic series created by Nintendo legend Shigeru Miyamoto, who also created *Super Mario*, *Donkey Kong*, *Star Fox*, and *Pikmin*.\n",
    "- Zelda is named after Zelda Fitzgerald, the wife of F. Scott Fitzgerald, author of *The Great Gatsby*.\n",
    "- Link's design was inspired by *Peter Pan*, with green color schemes and pointed elf-like ears.\n",
    "- Despite the name *The Legend of Zelda*, not every game involves Princess Zelda."
   ]
  },
  {
   "cell_type": "markdown",
   "metadata": {},
   "source": [
    "## 3. Final Stretch 🧘‍♀️"
   ]
  },
  {
   "cell_type": "markdown",
   "metadata": {},
   "source": [
    "Suppose we have a DataFrame named `data` with two numerical columns, `'x'` and `'y'`. Consider the following scatter plot, which was generated by calling `data.plot(kind='scatter', x='x', y='y')`:\n",
    "\n",
    "<img src='images/q4_scatter_plot.png' width=400/>\n",
    "\n",
    "Now consider these two histograms:\n",
    "\n",
    "<center>\n",
    "    <table><tr>\n",
    "        <td><center><b>Histogram A</b><br> <img src='images/q4_histogram_one.png' width=400></center> </td>\n",
    "        <td><center><b>Histogram B</b><br> <img src='images/q4_histogram_two.png' width=400></center> </td>\n",
    "    </tr></table>\n",
    "</center>"
   ]
  },
  {
   "cell_type": "markdown",
   "metadata": {},
   "source": [
    "**Question 3.1.** Which of the following lines of code generated **Histogram B**? Assign `which_code` to either 1, 2, 3, or 4.\n",
    " \n",
    " \n",
    " 1. `data.plot(kind='hist', density=True, y='x')`\n",
    " 2. `data.plot(kind='hist', density=False, y='x')`\n",
    " 3. `data.plot(kind='hist', density=True, y='y')`\n",
    " 4. `data.plot(kind='hist', density=False, y='y')` "
   ]
  },
  {
   "cell_type": "code",
   "execution_count": null,
   "metadata": {},
   "outputs": [],
   "source": [
    "which_code = ..."
   ]
  },
  {
   "cell_type": "code",
   "execution_count": null,
   "metadata": {
    "deletable": false,
    "editable": false
   },
   "outputs": [],
   "source": [
    "grader.check(\"q3_1\")"
   ]
  },
  {
   "cell_type": "markdown",
   "metadata": {},
   "source": [
    "**Question 3.2.** Suppose we run this block of code:\n",
    "\n",
    "```py\n",
    "new_data = bpd.DataFrame().assign(\n",
    "    x = data.get('x') / 4,\n",
    "    y = data.get('y')\n",
    ")\n",
    "```\n",
    "    \n",
    "We then run \n",
    "\n",
    "```py\n",
    "new_data.plot(kind='hist', density=True, y='x')\n",
    "```\n",
    "\n",
    "How will this histogram look compared to the histogram created by \n",
    "\n",
    "```py\n",
    "data.plot(kind='hist', density=True, y='x')\n",
    "```\n",
    "\n",
    "assuming both histograms are drawn on the same axes? Assign `histogram_difference` to either 1, 2, 3, or 4, corresponding to your choice.\n",
    "\n",
    "\n",
    "1. The `new_data` histogram will be narrower and shorter than the `data` histogram.\n",
    "2. The `new_data` histogram will be wider and shorter than the `data` histogram.\n",
    "3. The `new_data` histogram will be narrower and taller than the `data` histogram.\n",
    "4. The `new_data` histogram will be wider and taller than the `data` histogram.\n",
    "\n",
    "\n",
    "\n",
    "**_Hint:_** Look at the end of [Lecture 7](https://dsc10.com/resources/lectures/lec07/lec07.html#Plotting-overlaid-histograms) for an example of two histograms drawn on the same axes."
   ]
  },
  {
   "cell_type": "code",
   "execution_count": null,
   "metadata": {},
   "outputs": [],
   "source": [
    "histogram_difference = ..."
   ]
  },
  {
   "cell_type": "code",
   "execution_count": null,
   "metadata": {
    "deletable": false,
    "editable": false
   },
   "outputs": [],
   "source": [
    "grader.check(\"q3_2\")"
   ]
  },
  {
   "cell_type": "markdown",
   "metadata": {},
   "source": [
    "**Question 3.3.** Below, we show Histogram A again.\n",
    "\n",
    "<img src='./images/q4_histogram_one.png' width=400/>\n",
    "\n",
    "What **percent** of values in Histogram A are between -5 (inclusive) and -3 (exclusive)? While we cannot answer this question exactly since we do not know where the bins start and end, we can still approximate the answer. Assign the variable `percent_between` to a number 1 through 5, corresponding to the closest answer.\n",
    "\n",
    "1. 22%\n",
    "1. 27%\n",
    "1. 34%\n",
    "1. 40%\n",
    "1. 48%"
   ]
  },
  {
   "cell_type": "code",
   "execution_count": null,
   "metadata": {},
   "outputs": [],
   "source": [
    "percent_between = ..."
   ]
  },
  {
   "cell_type": "code",
   "execution_count": null,
   "metadata": {
    "deletable": false,
    "editable": false
   },
   "outputs": [],
   "source": [
    "grader.check(\"q3_3\")"
   ]
  },
  {
   "cell_type": "markdown",
   "metadata": {},
   "source": [
    "## Finish Line: Almost there, but make sure to follow the steps below to submit! 🏁\n",
    "\n",
    "**_Citations:_** Did you use any generative artificial intelligence tools to assist you on this assignment? If so, please state, for each tool you used, the name of the tool (ex. ChatGPT) and the problem(s) in this assignment where you used the tool for help."
   ]
  },
  {
   "cell_type": "markdown",
   "metadata": {},
   "source": [
    "<hr style='color:Maroon;background-color:Maroon;border:0 none; height: 3px;'>\n",
    "\n",
    "Please cite tools here.\n",
    "\n",
    "<hr style='color:Maroon;background-color:Maroon;border:0 none; height: 3px;'>"
   ]
  },
  {
   "cell_type": "markdown",
   "metadata": {},
   "source": [
    "To submit your assignment:\n",
    "\n",
    "1. Select `Kernel -> Restart & Run All` to ensure that you have executed all cells, including the test cells. \n",
    "1. Read through the notebook to make sure all cells ran and all tests passed.\n",
    "1. Run the cell below to run all tests, and make sure that they all pass.\n",
    "1. Download your notebook using `File -> Download as -> Notebook (.ipynb)`, then upload your notebook to Gradescope.\n",
    "1. Stick around while the Gradescope autograder grades your work. Make sure you see that all tests have passed on Gradescope.\n",
    "1. Check that you have a confirmation email from Gradescope and save it as proof of your submission. \n",
    "\n",
    "With homeworks, unlike with labs, the grade you see on Gradescope is **not your final score**. We will run correctness tests after the assignment's due date has passed."
   ]
  },
  {
   "cell_type": "code",
   "execution_count": null,
   "metadata": {},
   "outputs": [],
   "source": [
    "grader.check_all()"
   ]
  }
 ],
 "metadata": {
  "kernelspec": {
   "display_name": "Python 3 (ipykernel)",
   "language": "python",
   "name": "python3"
  },
  "language_info": {
   "codemirror_mode": {
    "name": "ipython",
    "version": 3
   },
   "file_extension": ".py",
   "mimetype": "text/x-python",
   "name": "python",
   "nbconvert_exporter": "python",
   "pygments_lexer": "ipython3",
   "version": "3.9.5"
  },
  "toc": {
   "base_numbering": 1,
   "nav_menu": {},
   "number_sections": true,
   "sideBar": true,
   "skip_h1_title": false,
   "title_cell": "Table of Contents",
   "title_sidebar": "Contents",
   "toc_cell": false,
   "toc_position": {},
   "toc_section_display": true,
   "toc_window_display": false
  }
 },
 "nbformat": 4,
 "nbformat_minor": 4
}
