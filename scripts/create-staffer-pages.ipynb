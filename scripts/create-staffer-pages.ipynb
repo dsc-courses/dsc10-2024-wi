{
 "cells": [
  {
   "cell_type": "code",
   "execution_count": 12,
   "metadata": {},
   "outputs": [],
   "source": [
    "import os\n",
    "\n",
    "def write_markdown_file(line):\n",
    "    # Split the line by tab to get individual fields\n",
    "    fields = line.strip().split('\\t')\n",
    "    \n",
    "    # Extract information from fields\n",
    "    timestamp, full_name, pronouns, _, description, hometown, askabout, food = fields\n",
    "    first_name, last_name = full_name.split()\n",
    "    \n",
    "    # Format the markdown content\n",
    "    # Need to manually change the food emoji later\n",
    "    content = f\"\"\"---\n",
    "name: {full_name}\n",
    "role: Tutor\n",
    "pronouns: {pronouns}\n",
    "email: \n",
    "photo: assets/staff-images/wi24/{last_name.lower()}-{first_name.lower()}.jpg\n",
    "description: {description}\n",
    "hometown: {hometown}\n",
    "askabout: {askabout}\n",
    "foodemoji: 🍛 \n",
    "food: {food}\n",
    "---\"\"\"\n",
    "    \n",
    "    path = \"../_staffers/\"\n",
    "\n",
    "    # Define the file name\n",
    "    file_name = f\"{path}{last_name.lower()}-{first_name.lower()}.md\"\n",
    "    \n",
    "    # Write the content to the file\n",
    "    with open(file_name, 'w') as f:\n",
    "        f.write(content)\n",
    "    \n",
    "    print(f\"{file_name} has been written successfully!\")\n",
    "\n",
    "\n"
   ]
  },
  {
   "cell_type": "code",
   "execution_count": 15,
   "metadata": {},
   "outputs": [
    {
     "name": "stdout",
     "output_type": "stream",
     "text": [
      "../_staffers/zhang-luran.md has been written successfully!\n",
      "../_staffers/rahnama-arya.md has been written successfully!\n",
      "../_staffers/hu-vanessa.md has been written successfully!\n",
      "../_staffers/li-anthony.md has been written successfully!\n"
     ]
    }
   ],
   "source": [
    "# Copy-paste the eight relevant columns from the staff onboarding form responses\n",
    "all_lines = \"\"\"1/4/2024 21:16:14\tLuran Zhang\tshe/her\thttps://drive.google.com/file/d/1fS98G8dE19F29L1dLJxiu19zCFSgjsNr/view?usp=sharing\t3rd year, Data Science and Math-Econ, Muir\tLos Angeles, CA\tMy internship last summer, snowboarding, rock climbing\tShancheng Lameizi Hot Pot, Tacos El Gordo, Izakaya Sakura\n",
    "1/4/2024 21:38:30\tArya Rahnama\the/him\thttps://drive.google.com/file/d/1BvpdzAbLXQaUR_SBx0_nsntJHhFNijSZ/view?usp=sharing \t1st year, M.S. in Data Science\tPortland, OR\tInternships at Intel and Deloitte, SSBM, Counter Strike, chess engines, basketball\tSalt & Straw, Kinoyume, Din Tai Fung\n",
    "1/4/2024 23:16:27\tVanessa Hu\tshe/her\thttps://drive.google.com/file/d/1nVBeQLH9NMj8VwlNeelnYZYHpo0RcaLU/view?usp=sharing\t3rd, Data Science, Sixth\tSan Jose, CA\tBaking, reading\t🥐 Wayfarer Bread & Pastry, Tacos El Gordo, Sorrento Ristorante\n",
    "1/5/2024 11:59:49\tAnthony Li\the/him\thttps://drive.google.com/file/d/1vsvaozfvk4eIvVqQcCjAe4dA1vHK6Sgy/view?usp=sharing\t4th year, Data Science, Seventh\tSan Ramon, CA\tArt and screen printing, films, video games\t🍣 Sushi Freak, CoCo Ichibanya, Tasty Noodle House\"\"\"\n",
    "lines = all_lines.split(\"\\n\")\n",
    "for line in lines:\n",
    "    write_markdown_file(line)"
   ]
  },
  {
   "cell_type": "code",
   "execution_count": 16,
   "metadata": {},
   "outputs": [
    {
     "name": "stdout",
     "output_type": "stream",
     "text": [
      "['1/4/2024 21:16:14\\tLuran Zhang\\tshe/her\\thttps://drive.google.com/file/d/1fS98G8dE19F29L1dLJxiu19zCFSgjsNr/view?usp=sharing']\n",
      "Image for Luran Zhang has been saved successfully to ../assets/staff-images/wi24\\zhang-luran.jpg\n",
      "['1/4/2024 21:38:30\\tArya Rahnama\\the/him\\thttps://drive.google.com/file/d/1BvpdzAbLXQaUR_SBx0_nsntJHhFNijSZ/view?usp=sharing ']\n",
      "Image for Arya Rahnama has been saved successfully to ../assets/staff-images/wi24\\rahnama-arya.jpg\n",
      "['1/4/2024 23:16:27\\tVanessa Hu\\tshe/her\\thttps://drive.google.com/file/d/1nVBeQLH9NMj8VwlNeelnYZYHpo0RcaLU/view?usp=sharing']\n",
      "Failed to download and save image for Vanessa Hu. Error: cannot identify image file <_io.BytesIO object at 0x000001DF68997B80>\n",
      "['1/5/2024 11:59:49\\tAnthony Li\\the/him\\thttps://drive.google.com/file/d/1vsvaozfvk4eIvVqQcCjAe4dA1vHK6Sgy/view?usp=sharing']\n",
      "Image for Anthony Li has been saved successfully to ../assets/staff-images/wi24\\li-anthony.jpg\n"
     ]
    }
   ],
   "source": [
    "import os\n",
    "import re\n",
    "import csv\n",
    "import requests\n",
    "from PIL import Image\n",
    "from io import BytesIO\n",
    "\n",
    "def download_and_save_images(csv_content, directory):\n",
    "    # Create directory if it doesn't exist\n",
    "    if not os.path.exists(directory):\n",
    "        os.makedirs(directory)\n",
    "    \n",
    "    # Parse the CSV content line by line\n",
    "    reader = csv.reader(csv_content.splitlines())\n",
    "    #next(reader)  # Skip the header row\n",
    "    \n",
    "    for row in reader:\n",
    "        print(row)\n",
    "        timestamp, full_name, pronouns, link = row[0].split(\"\\t\")\n",
    "        first_name, last_name = full_name.split()\n",
    "        \n",
    "        # Format the file name\n",
    "        file_name = f\"{last_name.lower()}-{first_name.lower()}.jpg\"\n",
    "        file_path = os.path.join(directory, file_name)\n",
    "        \n",
    "        match = re.search(r'/d/([^/]+)/', link)\n",
    "        if match:\n",
    "            file_id = match.group(1)\n",
    "            download_link = f\"https://drive.google.com/uc?export=download&id={file_id}\"\n",
    "        else:\n",
    "            print(f\"Failed to extract file ID from link for {full_name}. Skipping.\")\n",
    "            continue\n",
    "        \n",
    "        try:\n",
    "            # Download the image using the modified download link\n",
    "            response = requests.get(download_link)\n",
    "            response.raise_for_status()\n",
    "            \n",
    "            # Open the image and convert it to JPEG if necessary\n",
    "            img = Image.open(BytesIO(response.content))\n",
    "            if img.format != 'JPEG':\n",
    "                img = img.convert('RGB')\n",
    "            \n",
    "            # Save the image to the specified directory\n",
    "            img.save(file_path, 'JPEG')\n",
    "            print(f\"Image for {full_name} has been saved successfully to {file_path}\")\n",
    "        \n",
    "        except Exception as e:\n",
    "            print(f\"Failed to download and save image for {full_name}. Error: {e}\")\n",
    "\n",
    "# Copy-paste the first four columns from the staff onboarding form responses\n",
    "csv_content = \"\"\"1/4/2024 21:16:14\tLuran Zhang\tshe/her\thttps://drive.google.com/file/d/1fS98G8dE19F29L1dLJxiu19zCFSgjsNr/view?usp=sharing\n",
    "1/4/2024 21:38:30\tArya Rahnama\the/him\thttps://drive.google.com/file/d/1BvpdzAbLXQaUR_SBx0_nsntJHhFNijSZ/view?usp=sharing \n",
    "1/4/2024 23:16:27\tVanessa Hu\tshe/her\thttps://drive.google.com/file/d/1nVBeQLH9NMj8VwlNeelnYZYHpo0RcaLU/view?usp=sharing\n",
    "1/5/2024 11:59:49\tAnthony Li\the/him\thttps://drive.google.com/file/d/1vsvaozfvk4eIvVqQcCjAe4dA1vHK6Sgy/view?usp=sharing\"\"\"\n",
    "\n",
    "# The directory where the images should be saved\n",
    "directory = \"../assets/staff-images/wi24\"\n",
    "\n",
    "# Call the function with the CSV content and the directory\n",
    "download_and_save_images(csv_content, directory)\n",
    "\n",
    "# This will extract some, others will need to be done manually."
   ]
  },
  {
   "cell_type": "code",
   "execution_count": null,
   "metadata": {},
   "outputs": [],
   "source": []
  }
 ],
 "metadata": {
  "kernelspec": {
   "display_name": "Python 3 (ipykernel)",
   "language": "python",
   "name": "python3"
  },
  "language_info": {
   "codemirror_mode": {
    "name": "ipython",
    "version": 3
   },
   "file_extension": ".py",
   "mimetype": "text/x-python",
   "name": "python",
   "nbconvert_exporter": "python",
   "pygments_lexer": "ipython3",
   "version": "3.9.5"
  }
 },
 "nbformat": 4,
 "nbformat_minor": 2
}
