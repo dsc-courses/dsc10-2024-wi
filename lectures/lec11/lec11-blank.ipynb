{
 "cells": [
  {
   "cell_type": "markdown",
   "metadata": {
    "slideshow": {
     "slide_type": "slide"
    }
   },
   "source": [
    "# Lecture 11 – Probability\n",
    "\n",
    "## DSC 10, Winter 2024"
   ]
  },
  {
   "cell_type": "markdown",
   "metadata": {
    "slideshow": {
     "slide_type": "slide"
    }
   },
   "source": [
    "### Announcements\n",
    "\n",
    "- Extra practice session is tonight. Problems are [here](https://practice.dsc10.com/probset04/index.html). \n",
    "    - This is the best way to prepare for the next quiz.\n",
    "- Lab 3 is due **tomorrow at 11:59PM**.\n",
    "- Quiz 3 is on **Monday in discussion**.\n",
    "    - It covers lectures 8 through 11, which includes today.\n",
    "- Homework 3 is due on **Thursday at 11:59PM**."
   ]
  },
  {
   "cell_type": "markdown",
   "metadata": {
    "slideshow": {
     "slide_type": "slide"
    }
   },
   "source": [
    "### Agenda\n",
    "\n",
    "We'll cover the basics of probability theory. This is a math lesson; take written notes ✍🏽."
   ]
  },
  {
   "cell_type": "markdown",
   "metadata": {
    "slideshow": {
     "slide_type": "slide"
    }
   },
   "source": [
    "### Probability resources\n",
    "\n",
    "Probability is a tricky subject. If it doesn't click during lecture or on the assignments, take a look at the following resources:\n",
    "- [Computational and Inferential Thinking, Chapter 9.5](https://inferentialthinking.com/chapters/09/5/Finding_Probabilities.html).\n",
    "- [Theory Meets Data, Chapters 1 and 2](http://stat88.org/textbook/content/Chapter_01/00_The_Basics.html).\n",
    "- [Khan Academy's unit on Probability](https://www.khanacademy.org/math/probability/xa88397b6:probability)."
   ]
  },
  {
   "cell_type": "markdown",
   "metadata": {
    "slideshow": {
     "slide_type": "slide"
    }
   },
   "source": [
    "### Probability theory\n",
    "\n",
    "- Some things in life *seem* random.\n",
    "    - e.g., flipping a coin or rolling a die 🎲.\n",
    "- The **probability** of seeing \"heads\" when flipping a fair coin is $\\frac{1}{2}$.\n",
    "- One interpretation of probability says that if we flipped a coin infinitely many times, then $\\frac{1}{2}$ of the outcomes would be heads."
   ]
  },
  {
   "cell_type": "markdown",
   "metadata": {
    "slideshow": {
     "slide_type": "slide"
    }
   },
   "source": [
    "### Terminology\n",
    "\n",
    "- **Experiment**: A process or action whose result is random.\n",
    "    - e.g., rolling a die.\n",
    "    - e.g., flipping a coin twice.\n",
    "- **Outcome**: The result of an experiment.\n",
    "    - e.g., the possible outcomes of rolling a six-sided die are 1, 2, 3, 4, 5, and 6.\n",
    "    - e.g., the possible outcomes of flipping a coin twice are HH, HT, TH, and TT.\n",
    "- **Event**: A set of outcomes.\n",
    "    - e.g., the event that the die lands on a even number is the set of outcomes {2, 4, 6}.\n",
    "    - e.g., the event that the die lands on a 5 is the set of outcomes {5}.\n",
    "    - e.g., the event that there is at least 1 head in 2 flips is the set of outcomes {HH, HT, TH}."
   ]
  },
  {
   "cell_type": "markdown",
   "metadata": {
    "slideshow": {
     "slide_type": "slide"
    }
   },
   "source": [
    "### Terminology\n",
    "\n",
    "- **Probability**: A number between 0 and 1 (equivalently, between 0% and 100%) that describes the likelihood of an event.\n",
    "    - 0: The event never happens.\n",
    "    - 1: The event always happens.\n",
    "- Notation: If $A$ is an event, $P(A)$ is the probability of that event."
   ]
  },
  {
   "cell_type": "markdown",
   "metadata": {
    "slideshow": {
     "slide_type": "slide"
    }
   },
   "source": [
    "### Equally-likely outcomes\n",
    "\n",
    "- If all outcomes in event $A$ are equally likely, then the probability of $A$ is\n",
    "\n",
    "$$\n",
    "P(A) = \\frac{\n",
    "    \\text{# of outcomes satisfying $A$}\n",
    "}{\n",
    "    \\text{total # of outcomes}\n",
    "}\n",
    "$$\n",
    "\n",
    "- **Example 1**: Suppose we flip a fair coin 3 times. What is the probability we see exactly 2 heads?"
   ]
  },
  {
   "cell_type": "markdown",
   "metadata": {
    "slideshow": {
     "slide_type": "slide"
    }
   },
   "source": [
    "### Concept Check ✅ – Answer at [cc.dsc10.com](http://cc.dsc10.com) \n",
    "\n",
    "I have three cards: red, blue, and green. What is the chance that I choose a card at random and it is green, then – **without putting it back** – I choose another card at random and it is red?\n",
    "\n",
    "- A) $\\frac{1}{9}$\n",
    "- B) $\\frac{1}{6}$\n",
    "- C) $\\frac{1}{3}$\n",
    "- D) $\\frac{2}{3}$\n",
    "- E) None of the above."
   ]
  },
  {
   "cell_type": "markdown",
   "metadata": {
    "slideshow": {
     "slide_type": "slide"
    }
   },
   "source": [
    "### Conditional probabilities\n",
    "\n",
    "- Two events $A$ and $B$ can both happen. Suppose that we know $A$ has happened, but we don't know if $B$ has.\n",
    "- If all outcomes are equally likely, then the conditional probability of $B$ given $A$ is:\n",
    "\n",
    "$$\n",
    "P(B \\text{ given } A)\n",
    "= \\frac{\n",
    "    \\text{# of outcomes satisfying both $A$ and $B$}\n",
    "}{\n",
    "    \\text{# of outcomes satisfying $A$}\n",
    "}\n",
    "$$\n",
    "- Intuitively, this is similar to the definition of the regular probability of $B$, $P(B) = \\frac{\n",
    "    \\text{# of outcomes satisfying $B$}\n",
    "}{\n",
    "    \\text{total # of outcomes}\n",
    "}$, if you restrict the set of possible outcomes to be just those in event $A$."
   ]
  },
  {
   "cell_type": "markdown",
   "metadata": {
    "slideshow": {
     "slide_type": "slide"
    }
   },
   "source": [
    "### Concept Check ✅ – Answer at [cc.dsc10.com](http://cc.dsc10.com) \n",
    "\n",
    "$$\n",
    "P(B \\text{ given } A)\n",
    "= \\frac{\n",
    "    \\text{# of outcomes satisfying both $A$ and $B$}\n",
    "}{\n",
    "    \\text{# of outcomes satisfying $A$}\n",
    "}\n",
    "$$\n",
    "\n",
    "I roll a six-sided die and don't tell you what the result is, but I tell you that it is 3 or less. What is the probability that the result is even?\n",
    "\n",
    "- A) $\\frac{1}{2}$\n",
    "- B) $\\frac{1}{3}$\n",
    "- C) $\\frac{1}{4}$\n",
    "- D) None of the above."
   ]
  },
  {
   "cell_type": "markdown",
   "metadata": {
    "slideshow": {
     "slide_type": "slide"
    }
   },
   "source": [
    "### Probability that two events both happen\n",
    "\n",
    "- Suppose again that $A$ and $B$ are two events, and that all outcomes are equally likely. Then, the probability that both $A$ and $B$ occur is\n",
    "\n",
    "$$\n",
    "P(A \\text{ and } B) = \\frac{\n",
    "    \\text{# of outcomes satisfying both $A$ and $B$}\n",
    "}{\n",
    "    \\text{total # of outcomes}\n",
    "}\n",
    "$$\n",
    "\n",
    "- **Example 2**: I roll a fair six-sided die. What is the probability that the roll is 3 or less **and** even?"
   ]
  },
  {
   "cell_type": "markdown",
   "metadata": {
    "slideshow": {
     "slide_type": "slide"
    }
   },
   "source": [
    "### The multiplication rule\n",
    "\n",
    "- The multiplication rule specifies how to compute the probability of both $A$ and $B$ happening, even if all outcomes are not equally likely.\n",
    "\n",
    "$$\n",
    "    P(A \\text{ and } B)\n",
    "    =\n",
    "    P(A) \\cdot P(B \\text{ given } A)\n",
    "$$\n",
    "\n",
    "- **Example 2, again**: I roll a fair six-sided die. What is the probability that the roll is 3 or less and even?"
   ]
  },
  {
   "cell_type": "markdown",
   "metadata": {
    "slideshow": {
     "slide_type": "slide"
    }
   },
   "source": [
    "### What if $A$ isn't affected by $B$? 🤔\n",
    "\n",
    "- The multiplication rule states that, for any two events $A$ and $B$, $$P(A \\text{ and } B) = P(A) \\cdot P(B \\text{ given } A)$$\n",
    "- What if knowing that $A$ happens doesn't tell you anything about the likelihood of $B$ happening?\n",
    "    - Suppose we flip a fair coin three times.\n",
    "    - The probability that the second flip is heads doesn't depend on the result of the first flip.\n",
    "- Then, what is $P(A \\text{ and } B)$?"
   ]
  },
  {
   "cell_type": "markdown",
   "metadata": {
    "slideshow": {
     "slide_type": "slide"
    }
   },
   "source": [
    "### Independent events\n",
    "\n",
    "- Two events $A$ and $B$ are independent if $P(B \\text{ given } A) = P(B) \\:$, or equivalently if $$P(A \\text{ and } B) = P(A) \\cdot P(B)$$\n",
    "- **Example 3**: Suppose we have a coin that is **biased**, and flips heads with probability 0.7. Each flip is independent of all other flips. We flip it 5 times. What's the probability we see 5 heads in a row?"
   ]
  },
  {
   "cell_type": "markdown",
   "metadata": {
    "slideshow": {
     "slide_type": "slide"
    }
   },
   "source": [
    "### Probability that an event *doesn't* happen\n",
    "\n",
    "- The probability that $A$ **doesn't** happen is $1 - P(A) \\:$.\n",
    "- For example, if the probability it is sunny tomorrow is 0.85, then the probability it is not sunny tomorrow is 0.15."
   ]
  },
  {
   "cell_type": "markdown",
   "metadata": {
    "slideshow": {
     "slide_type": "slide"
    }
   },
   "source": [
    "### Concept Check ✅ – Answer at [cc.dsc10.com](http://cc.dsc10.com) \n",
    "\n",
    "Every time I call my grandma 👵, the probability that she answers her phone is $\\frac{1}{3}$, independently for each call. If I call my grandma three times today, what is the chance that I will talk to her at least once?\n",
    "\n",
    "- A) $\\frac{1}{3}$\n",
    "- B) $\\frac{2}{3}$\n",
    "- C) $\\frac{1}{2}$\n",
    "- D) $1$\n",
    "- E) None of the above."
   ]
  },
  {
   "cell_type": "markdown",
   "metadata": {
    "slideshow": {
     "slide_type": "slide"
    }
   },
   "source": [
    "### Probability of either of two events happening\n",
    "\n",
    "- Suppose again that $A$ and $B$ are two events, and that all outcomes are equally likely. Then, the probability that either $A$ or $B$ occur is\n",
    "\n",
    "$$\n",
    "P(A \\text{ or } B) = \\frac{\n",
    "    \\text{# of outcomes satisfying either $A$ or $B$}\n",
    "    }{\n",
    "    \\text{total # of outcomes}\n",
    "    }\n",
    "$$\n",
    "\n",
    "- **Example 4**: I roll a fair six-sided die. What is the probability that the roll is even or at least 5?"
   ]
  },
  {
   "cell_type": "markdown",
   "metadata": {
    "slideshow": {
     "slide_type": "slide"
    }
   },
   "source": [
    "### The addition rule\n",
    "\n",
    "- Suppose that if $A$ happens, then $B$ doesn't, and if $B$ happens, then $A$ doesn't.\n",
    "    - Such events are called **mutually exclusive** – they have **no overlap**.\n",
    "- If $A$ and $B$ are any two mutually exclusive events, then\n",
    "\n",
    "$$P(A \\text{ or } B) = P(A) + P(B)$$\n",
    "\n",
    "- **Example 5**: Suppose I have two biased coins, coin $A$ and coin $B$. Coin $A$ flips heads with probability 0.6, and coin $B$ flips heads with probability 0.3. I flip both coins once. What's the probability I see two different faces?"
   ]
  },
  {
   "cell_type": "markdown",
   "metadata": {
    "slideshow": {
     "slide_type": "slide"
    }
   },
   "source": [
    "### Aside: Proof of the addition rule for equally-likely events\n",
    "\n",
    "You are not required to know how to \"prove\" anything in this course; you may just find this interesting.\n",
    "\n",
    "If $A$ and $B$ are events consisting of equally likely outcomes, and furthermore $A$ and $B$ are mutually exclusive (meaning they have no overlap), then\n",
    "\n",
    "$$\n",
    "\\begin{align*}\n",
    "    P(A \\text{ or } B) \n",
    "    &= \\frac{\n",
    "        \\text{# of outcomes satisfying either $A$ or $B$}\n",
    "        }{\n",
    "        \\text{total # of outcomes}\n",
    "        }\n",
    "        \\\\[1em]\n",
    "    &= \\frac{\n",
    "            (\\text{# of outcomes satisfying $A$})\n",
    "            +\n",
    "            (\\text{# of outcomes satisfying $B$})\n",
    "        }{\n",
    "        \\text{total # of outcomes}\n",
    "        }\n",
    "        \\\\[1em]\n",
    "    &= \\frac{\n",
    "            (\\text{# of outcomes satisfying $A$})\n",
    "        }{\n",
    "        \\text{total # of outcomes}\n",
    "        }\n",
    "        +\n",
    "        \\frac{\n",
    "            (\\text{# of outcomes satisfying $B$})\n",
    "        }{\n",
    "        \\text{total # of outcomes}\n",
    "        }\n",
    "    \\\\[1em]\n",
    "    &= P(A) + P(B)\n",
    "\\end{align*}\n",
    "$$"
   ]
  },
  {
   "cell_type": "markdown",
   "metadata": {
    "slideshow": {
     "slide_type": "slide"
    }
   },
   "source": [
    "### Summary, next time\n",
    "\n",
    "- Probability describes the likelihood of an event occurring.\n",
    "- There are several rules for computing probabilities. We looked at many special cases that involved equally-likely events.\n",
    "- There are two general rules to be aware of:\n",
    "    - The **multiplication rule**, which states that for any two events, $P(A \\text{ and } B) = P(B \\text{ given } A) \\cdot P(A) \\:$.\n",
    "    - The **addition rule**, which states that for any two **mutually exclusive** events, $P(A \\text{ or } B) = P(A) + P(B)$.\n",
    "- **Next time:** Simulations."
   ]
  }
 ],
 "metadata": {
  "kernelspec": {
   "display_name": "Python 3 (ipykernel)",
   "language": "python",
   "name": "python3"
  },
  "language_info": {
   "codemirror_mode": {
    "name": "ipython",
    "version": 3
   },
   "file_extension": ".py",
   "mimetype": "text/x-python",
   "name": "python",
   "nbconvert_exporter": "python",
   "pygments_lexer": "ipython3",
   "version": "3.9.5"
  },
  "livereveal": {
   "scroll": true,
   "transition": "none"
  },
  "rise": {
   "enable_chalkboard": true
  }
 },
 "nbformat": 4,
 "nbformat_minor": 2
}
